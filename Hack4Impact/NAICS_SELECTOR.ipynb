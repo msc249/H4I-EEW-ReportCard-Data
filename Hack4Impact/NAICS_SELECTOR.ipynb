{
 "cells": [
  {
   "cell_type": "code",
   "execution_count": 13,
   "metadata": {
    "id": "9wefslkviRhG"
   },
   "outputs": [
    {
     "ename": "ModuleNotFoundError",
     "evalue": "No module named 'folium'",
     "output_type": "error",
     "traceback": [
      "\u001b[0;31m---------------------------------------------------------------------------\u001b[0m",
      "\u001b[0;31mModuleNotFoundError\u001b[0m                       Traceback (most recent call last)",
      "\u001b[0;32m<ipython-input-13-c35655df9767>\u001b[0m in \u001b[0;36m<module>\u001b[0;34m\u001b[0m\n\u001b[1;32m      1\u001b[0m \u001b[0mget_ipython\u001b[0m\u001b[0;34m(\u001b[0m\u001b[0;34m)\u001b[0m\u001b[0;34m.\u001b[0m\u001b[0msystem\u001b[0m\u001b[0;34m(\u001b[0m\u001b[0;34m'git clone https://github.com/edgi-govdata-archiving/ECHO_modules.git &>/dev/null'\u001b[0m\u001b[0;34m)\u001b[0m\u001b[0;34m\u001b[0m\u001b[0;34m\u001b[0m\u001b[0m\n\u001b[1;32m      2\u001b[0m \u001b[0;32mimport\u001b[0m \u001b[0mpandas\u001b[0m\u001b[0;34m\u001b[0m\u001b[0;34m\u001b[0m\u001b[0m\n\u001b[0;32m----> 3\u001b[0;31m \u001b[0;32mimport\u001b[0m \u001b[0mfolium\u001b[0m\u001b[0;34m\u001b[0m\u001b[0;34m\u001b[0m\u001b[0m\n\u001b[0m\u001b[1;32m      4\u001b[0m \u001b[0;32mimport\u001b[0m \u001b[0mipywidgets\u001b[0m \u001b[0;32mas\u001b[0m \u001b[0mwidgets\u001b[0m\u001b[0;34m\u001b[0m\u001b[0;34m\u001b[0m\u001b[0m\n\u001b[1;32m      5\u001b[0m \u001b[0;32mimport\u001b[0m \u001b[0mpdb\u001b[0m\u001b[0;34m\u001b[0m\u001b[0;34m\u001b[0m\u001b[0m\n",
      "\u001b[0;31mModuleNotFoundError\u001b[0m: No module named 'folium'"
     ]
    }
   ],
   "source": [
    "\n",
    "!git clone https://github.com/edgi-govdata-archiving/ECHO_modules.git &>/dev/null\n",
    "import pandas\n",
    "import folium\n",
    "import ipywidgets as widgets\n",
    "import pdb\n",
    "import os\n",
    "import urllib.parse\n",
    "import pandas as pd\n",
    "import matplotlib.pyplot as plt\n",
    "import numpy as np\n",
    "import math"
   ]
  },
  {
   "cell_type": "markdown",
   "metadata": {},
   "source": [
    "This cell allows the user to make selections regarding programs, active facilities, and NAICS codes. make_selections() displays a widget, allowing the user to choose multiple programs from a list, decide if they want to filter by active facilities, and input specific NAICS codes separated by commas. Returns the selections made in the widget."
   ]
  },
  {
   "cell_type": "code",
   "execution_count": 2,
   "metadata": {
    "colab": {
     "base_uri": "https://localhost:8080/",
     "height": 171,
     "referenced_widgets": [
      "638e2956b9fa4a0eb09ece0412504de8",
      "789f398b3f854cffb98f8bd5bd27b7fa",
      "ca0be36d1400475aa74cd54b0ac8d413",
      "ad3de88bf8be4eb58cd35e21fe4671da",
      "708548e4b75f4dd6b4bbf7ee59114986",
      "2fcb17488fe446f1bfdcb09f9dbbf817",
      "17376dd664ad4a6ea0f7310a5bb8c004",
      "da34b0c4cf7d46b3b2ce756eb07ce976",
      "9099d323723a420d893b80fc8d2a2195"
     ]
    },
    "id": "ELmOFMA2-f2L",
    "outputId": "5a374d7e-1e06-463c-be4e-7c93bf680667",
    "scrolled": true
   },
   "outputs": [
    {
     "data": {
      "application/vnd.jupyter.widget-view+json": {
       "model_id": "9e549b74f63e44ffa659be65bebf2367",
       "version_major": 2,
       "version_minor": 0
      },
      "text/plain": [
       "SelectMultiple(description='Programs', options=('NPDES_FLAG', 'AIR_FLAG', 'RCRA_FLAG'), value=())"
      ]
     },
     "metadata": {},
     "output_type": "display_data"
    },
    {
     "data": {
      "application/vnd.jupyter.widget-view+json": {
       "model_id": "b01532065e04427088e504353ba80696",
       "version_major": 2,
       "version_minor": 0
      },
      "text/plain": [
       "Checkbox(value=False, description='Only active facilities?')"
      ]
     },
     "metadata": {},
     "output_type": "display_data"
    },
    {
     "data": {
      "application/vnd.jupyter.widget-view+json": {
       "model_id": "69a4e1d038da40cfa4943eaf78c61bcc",
       "version_major": 2,
       "version_minor": 0
      },
      "text/plain": [
       "Text(value='', description='NAICS codes', placeholder='Enter NAICS codes here, separated with a comma')"
      ]
     },
     "metadata": {},
     "output_type": "display_data"
    }
   ],
   "source": [
    "from backend_scripts.programs_facilities_codes import make_selections\n",
    "slct = make_selections()\n"
   ]
  },
  {
   "cell_type": "markdown",
   "metadata": {},
   "source": [
    "This cell generates an SQL query based on the selections made by the user in the previous cell. query(slct) takes in the arg slct which contains the selections from the previous cell. Returns the SQL query string."
   ]
  },
  {
   "cell_type": "code",
   "execution_count": 3,
   "metadata": {
    "colab": {
     "base_uri": "https://localhost:8080/"
    },
    "id": "K70E7GqQV8Br",
    "outputId": "8011ca43-d801-40b7-9172-f949d87f7eac"
   },
   "outputs": [],
   "source": [
    "from backend_scripts.query_and_filter import query\n",
    "squery = query(slct)"
   ]
  },
  {
   "cell_type": "code",
   "execution_count": 4,
   "metadata": {
    "colab": {
     "base_uri": "https://localhost:8080/",
     "height": 818
    },
    "id": "lfx67zSWIj7N",
    "outputId": "682aa8de-ffed-42f6-a681-5b19a835a200"
   },
   "outputs": [
    {
     "data": {
      "text/html": [
       "<div>\n",
       "<style scoped>\n",
       "    .dataframe tbody tr th:only-of-type {\n",
       "        vertical-align: middle;\n",
       "    }\n",
       "\n",
       "    .dataframe tbody tr th {\n",
       "        vertical-align: top;\n",
       "    }\n",
       "\n",
       "    .dataframe thead th {\n",
       "        text-align: right;\n",
       "    }\n",
       "</style>\n",
       "<table border=\"1\" class=\"dataframe\">\n",
       "  <thead>\n",
       "    <tr style=\"text-align: right;\">\n",
       "      <th></th>\n",
       "      <th>FAC_NAME</th>\n",
       "      <th>CWA_NAICS</th>\n",
       "      <th>CAA_NAICS</th>\n",
       "      <th>RCRA_NAICS</th>\n",
       "      <th>FAC_NAICS_CODES</th>\n",
       "      <th>FAC_LAT</th>\n",
       "      <th>FAC_LONG</th>\n",
       "      <th>FAC_INSPECTION_COUNT</th>\n",
       "      <th>FAC_DAYS_LAST_INSPECTION</th>\n",
       "      <th>FAC_INFORMAL_COUNT</th>\n",
       "      <th>FAC_FORMAL_ACTION_COUNT</th>\n",
       "      <th>FAC_PERCENT_MINORITY</th>\n",
       "      <th>FAC_TOTAL_PENALTIES</th>\n",
       "      <th>FAC_PENALTY_COUNT</th>\n",
       "      <th>FAC_QTRS_WITH_NC</th>\n",
       "      <th>EJSCREEN_FLAG_US</th>\n",
       "    </tr>\n",
       "  </thead>\n",
       "  <tbody>\n",
       "    <tr>\n",
       "      <th>0</th>\n",
       "      <td>RIVER ROAD FACILITY</td>\n",
       "      <td>211120</td>\n",
       "      <td>NaN</td>\n",
       "      <td>NaN</td>\n",
       "      <td>211120</td>\n",
       "      <td>33.165641</td>\n",
       "      <td>-87.735816</td>\n",
       "      <td>1</td>\n",
       "      <td>181.0</td>\n",
       "      <td>0</td>\n",
       "      <td>0</td>\n",
       "      <td>31.718</td>\n",
       "      <td>0</td>\n",
       "      <td>NaN</td>\n",
       "      <td>0</td>\n",
       "      <td>N</td>\n",
       "    </tr>\n",
       "    <tr>\n",
       "      <th>1</th>\n",
       "      <td>FIELDWOOD ENERGY, LLC VK 340 A</td>\n",
       "      <td>211120</td>\n",
       "      <td>NaN</td>\n",
       "      <td>NaN</td>\n",
       "      <td>211120</td>\n",
       "      <td>29.636389</td>\n",
       "      <td>-88.092222</td>\n",
       "      <td>0</td>\n",
       "      <td>NaN</td>\n",
       "      <td>0</td>\n",
       "      <td>0</td>\n",
       "      <td>0.000</td>\n",
       "      <td>0</td>\n",
       "      <td>NaN</td>\n",
       "      <td>2</td>\n",
       "      <td>NaN</td>\n",
       "    </tr>\n",
       "    <tr>\n",
       "      <th>2</th>\n",
       "      <td>FIELDWOOD ENERGY, APACHE MO 821 A</td>\n",
       "      <td>211120</td>\n",
       "      <td>NaN</td>\n",
       "      <td>NaN</td>\n",
       "      <td>211120</td>\n",
       "      <td>30.298889</td>\n",
       "      <td>-88.406389</td>\n",
       "      <td>0</td>\n",
       "      <td>NaN</td>\n",
       "      <td>0</td>\n",
       "      <td>0</td>\n",
       "      <td>0.000</td>\n",
       "      <td>0</td>\n",
       "      <td>NaN</td>\n",
       "      <td>0</td>\n",
       "      <td>N</td>\n",
       "    </tr>\n",
       "    <tr>\n",
       "      <th>3</th>\n",
       "      <td>BRUCE PLATFORM</td>\n",
       "      <td>NaN</td>\n",
       "      <td>211111 211120</td>\n",
       "      <td>NaN</td>\n",
       "      <td>211120 211111</td>\n",
       "      <td>60.998013</td>\n",
       "      <td>-151.299784</td>\n",
       "      <td>3</td>\n",
       "      <td>563.0</td>\n",
       "      <td>1</td>\n",
       "      <td>0</td>\n",
       "      <td>0.000</td>\n",
       "      <td>0</td>\n",
       "      <td>NaN</td>\n",
       "      <td>1</td>\n",
       "      <td>N</td>\n",
       "    </tr>\n",
       "    <tr>\n",
       "      <th>4</th>\n",
       "      <td>A.O. SCHUMANN LEASE</td>\n",
       "      <td>211120</td>\n",
       "      <td>NaN</td>\n",
       "      <td>NaN</td>\n",
       "      <td>211120</td>\n",
       "      <td>27.797806</td>\n",
       "      <td>-97.395694</td>\n",
       "      <td>7</td>\n",
       "      <td>467.0</td>\n",
       "      <td>0</td>\n",
       "      <td>0</td>\n",
       "      <td>81.923</td>\n",
       "      <td>0</td>\n",
       "      <td>NaN</td>\n",
       "      <td>0</td>\n",
       "      <td>Y</td>\n",
       "    </tr>\n",
       "    <tr>\n",
       "      <th>...</th>\n",
       "      <td>...</td>\n",
       "      <td>...</td>\n",
       "      <td>...</td>\n",
       "      <td>...</td>\n",
       "      <td>...</td>\n",
       "      <td>...</td>\n",
       "      <td>...</td>\n",
       "      <td>...</td>\n",
       "      <td>...</td>\n",
       "      <td>...</td>\n",
       "      <td>...</td>\n",
       "      <td>...</td>\n",
       "      <td>...</td>\n",
       "      <td>...</td>\n",
       "      <td>...</td>\n",
       "      <td>...</td>\n",
       "    </tr>\n",
       "    <tr>\n",
       "      <th>104</th>\n",
       "      <td>MURPHY EXPLORATION &amp; PRODUCTION COMPANY â USA</td>\n",
       "      <td>211120</td>\n",
       "      <td>NaN</td>\n",
       "      <td>NaN</td>\n",
       "      <td>211120</td>\n",
       "      <td>29.783880</td>\n",
       "      <td>-95.535430</td>\n",
       "      <td>0</td>\n",
       "      <td>8789.0</td>\n",
       "      <td>1</td>\n",
       "      <td>1</td>\n",
       "      <td>51.572</td>\n",
       "      <td>0</td>\n",
       "      <td>NaN</td>\n",
       "      <td>0</td>\n",
       "      <td>N</td>\n",
       "    </tr>\n",
       "    <tr>\n",
       "      <th>105</th>\n",
       "      <td>BADAMI DEVELOPMENT FACILITY</td>\n",
       "      <td>NaN</td>\n",
       "      <td>211120 211111</td>\n",
       "      <td>48611 211111</td>\n",
       "      <td>211120 211111 48611 48811</td>\n",
       "      <td>70.150997</td>\n",
       "      <td>-147.097369</td>\n",
       "      <td>12</td>\n",
       "      <td>696.0</td>\n",
       "      <td>2</td>\n",
       "      <td>0</td>\n",
       "      <td>0.000</td>\n",
       "      <td>0</td>\n",
       "      <td>NaN</td>\n",
       "      <td>12</td>\n",
       "      <td>N</td>\n",
       "    </tr>\n",
       "    <tr>\n",
       "      <th>106</th>\n",
       "      <td>BP EXPLORATION&amp;PRODUCTION, INC - JOHANNA WEST ...</td>\n",
       "      <td>211120</td>\n",
       "      <td>NaN</td>\n",
       "      <td>NaN</td>\n",
       "      <td>211120</td>\n",
       "      <td>29.780370</td>\n",
       "      <td>-95.629500</td>\n",
       "      <td>1</td>\n",
       "      <td>1571.0</td>\n",
       "      <td>1</td>\n",
       "      <td>3</td>\n",
       "      <td>45.539</td>\n",
       "      <td>0</td>\n",
       "      <td>NaN</td>\n",
       "      <td>8</td>\n",
       "      <td>N</td>\n",
       "    </tr>\n",
       "    <tr>\n",
       "      <th>107</th>\n",
       "      <td>SEADRILL AMERICAS, INC. (MODU) - WEST NEPTUNE</td>\n",
       "      <td>211120</td>\n",
       "      <td>NaN</td>\n",
       "      <td>NaN</td>\n",
       "      <td>211120</td>\n",
       "      <td>29.839019</td>\n",
       "      <td>-95.560245</td>\n",
       "      <td>0</td>\n",
       "      <td>NaN</td>\n",
       "      <td>0</td>\n",
       "      <td>1</td>\n",
       "      <td>67.791</td>\n",
       "      <td>0</td>\n",
       "      <td>NaN</td>\n",
       "      <td>3</td>\n",
       "      <td>Y</td>\n",
       "    </tr>\n",
       "    <tr>\n",
       "      <th>108</th>\n",
       "      <td>DELHI NGL PLANT</td>\n",
       "      <td>NaN</td>\n",
       "      <td>211111 211120</td>\n",
       "      <td>21111</td>\n",
       "      <td>211120 21111 211130 21113 211111</td>\n",
       "      <td>32.441732</td>\n",
       "      <td>-91.588175</td>\n",
       "      <td>0</td>\n",
       "      <td>NaN</td>\n",
       "      <td>0</td>\n",
       "      <td>1</td>\n",
       "      <td>21.222</td>\n",
       "      <td>1200</td>\n",
       "      <td>1.0</td>\n",
       "      <td>0</td>\n",
       "      <td>Y</td>\n",
       "    </tr>\n",
       "  </tbody>\n",
       "</table>\n",
       "<p>109 rows × 16 columns</p>\n",
       "</div>"
      ],
      "text/plain": [
       "                                              FAC_NAME CWA_NAICS  \\\n",
       "0                                  RIVER ROAD FACILITY    211120   \n",
       "1                       FIELDWOOD ENERGY, LLC VK 340 A    211120   \n",
       "2                    FIELDWOOD ENERGY, APACHE MO 821 A    211120   \n",
       "3                                       BRUCE PLATFORM       NaN   \n",
       "4                                  A.O. SCHUMANN LEASE    211120   \n",
       "..                                                 ...       ...   \n",
       "104    MURPHY EXPLORATION & PRODUCTION COMPANY â USA    211120   \n",
       "105                        BADAMI DEVELOPMENT FACILITY       NaN   \n",
       "106  BP EXPLORATION&PRODUCTION, INC - JOHANNA WEST ...    211120   \n",
       "107      SEADRILL AMERICAS, INC. (MODU) - WEST NEPTUNE    211120   \n",
       "108                                    DELHI NGL PLANT       NaN   \n",
       "\n",
       "         CAA_NAICS    RCRA_NAICS                   FAC_NAICS_CODES    FAC_LAT  \\\n",
       "0              NaN           NaN                            211120  33.165641   \n",
       "1              NaN           NaN                            211120  29.636389   \n",
       "2              NaN           NaN                            211120  30.298889   \n",
       "3    211111 211120           NaN                     211120 211111  60.998013   \n",
       "4              NaN           NaN                            211120  27.797806   \n",
       "..             ...           ...                               ...        ...   \n",
       "104            NaN           NaN                            211120  29.783880   \n",
       "105  211120 211111  48611 211111         211120 211111 48611 48811  70.150997   \n",
       "106            NaN           NaN                            211120  29.780370   \n",
       "107            NaN           NaN                            211120  29.839019   \n",
       "108  211111 211120         21111  211120 21111 211130 21113 211111  32.441732   \n",
       "\n",
       "       FAC_LONG  FAC_INSPECTION_COUNT  FAC_DAYS_LAST_INSPECTION  \\\n",
       "0    -87.735816                     1                     181.0   \n",
       "1    -88.092222                     0                       NaN   \n",
       "2    -88.406389                     0                       NaN   \n",
       "3   -151.299784                     3                     563.0   \n",
       "4    -97.395694                     7                     467.0   \n",
       "..          ...                   ...                       ...   \n",
       "104  -95.535430                     0                    8789.0   \n",
       "105 -147.097369                    12                     696.0   \n",
       "106  -95.629500                     1                    1571.0   \n",
       "107  -95.560245                     0                       NaN   \n",
       "108  -91.588175                     0                       NaN   \n",
       "\n",
       "     FAC_INFORMAL_COUNT  FAC_FORMAL_ACTION_COUNT  FAC_PERCENT_MINORITY  \\\n",
       "0                     0                        0                31.718   \n",
       "1                     0                        0                 0.000   \n",
       "2                     0                        0                 0.000   \n",
       "3                     1                        0                 0.000   \n",
       "4                     0                        0                81.923   \n",
       "..                  ...                      ...                   ...   \n",
       "104                   1                        1                51.572   \n",
       "105                   2                        0                 0.000   \n",
       "106                   1                        3                45.539   \n",
       "107                   0                        1                67.791   \n",
       "108                   0                        1                21.222   \n",
       "\n",
       "     FAC_TOTAL_PENALTIES  FAC_PENALTY_COUNT  FAC_QTRS_WITH_NC EJSCREEN_FLAG_US  \n",
       "0                      0                NaN                 0                N  \n",
       "1                      0                NaN                 2              NaN  \n",
       "2                      0                NaN                 0                N  \n",
       "3                      0                NaN                 1                N  \n",
       "4                      0                NaN                 0                Y  \n",
       "..                   ...                ...               ...              ...  \n",
       "104                    0                NaN                 0                N  \n",
       "105                    0                NaN                12                N  \n",
       "106                    0                NaN                 8                N  \n",
       "107                    0                NaN                 3                Y  \n",
       "108                 1200                1.0                 0                Y  \n",
       "\n",
       "[109 rows x 16 columns]"
      ]
     },
     "execution_count": 4,
     "metadata": {},
     "output_type": "execute_result"
    }
   ],
   "source": [
    "# Access the ECHO_EXPORTER table\n",
    "# Output will be the matching tracked by EPA\n",
    "from ECHO_modules.get_data import get_echo_data\n",
    "\n",
    "sql = 'select \"FAC_NAME\", \"CWA_NAICS\", \"CAA_NAICS\", \"RCRA_NAICS\", \"FAC_NAICS_CODES\", \"FAC_LAT\", \"FAC_LONG\", \"FAC_INSPECTION_COUNT\", \"FAC_DAYS_LAST_INSPECTION\" ,\"FAC_INFORMAL_COUNT\" ,\"FAC_FORMAL_ACTION_COUNT\", \"FAC_PERCENT_MINORITY\", \"FAC_TOTAL_PENALTIES\", \"FAC_PENALTY_COUNT\", \"FAC_QTRS_WITH_NC\",\"EJSCREEN_FLAG_US\" from \"ECHO_EXPORTER\" where ' + squery\n",
    "try:\n",
    "  echo = get_echo_data( sql )\n",
    "except pandas.errors.EmptyDataError:\n",
    "  print(\"\\nThere are no records.\\n\")\n",
    "  \n",
    "echo"
   ]
  },
  {
   "attachments": {},
   "cell_type": "markdown",
   "metadata": {},
   "source": [
    "This cell outputs the mean and medians of different selected fields from the echo table such as FAC_PERCENT_MINORITY, FAC_TOTAL_PENALTIES, etc."
   ]
  },
  {
   "cell_type": "code",
   "execution_count": 5,
   "metadata": {},
   "outputs": [
    {
     "name": "stdout",
     "output_type": "stream",
     "text": [
      "FAC_PERCENT_MINORITY:\n",
      "Mean 21.408817307692313\n",
      "Median 12.397\n",
      "FAC_TOTAL_PENALTIES\n",
      "Mean 9938.183486238531\n",
      "Median 0.0\n",
      "FAC_PENALTY_COUNT\n",
      "Mean 1.1875\n",
      "Median 1.0\n",
      "FAC_QTRS_WITH_NC\n",
      "Mean 1.4220183486238531\n",
      "Median 0.0\n",
      "FAC_INSPECTION_COUNT\n",
      "Mean 1.8990825688073394\n",
      "Median 0.0\n",
      "FAC_DAYS_LAST_INSPECTION\n",
      "Mean 2418.0142857142855\n",
      "Median 1043.5\n",
      "FAC_INFORMAL_COUNT\n",
      "Mean 0.7981651376146789\n",
      "Median 0.0\n",
      "FAC_FORMAL_ACTION_COUNT\n",
      "Mean 0.3119266055045872\n",
      "Median 0.0\n"
     ]
    }
   ],
   "source": [
    "from backend_scripts.mean_median import metrics\n",
    "metrics(echo)"
   ]
  },
  {
   "attachments": {},
   "cell_type": "markdown",
   "metadata": {},
   "source": [
    "This cell generates box plots of different fields."
   ]
  },
  {
   "cell_type": "code",
   "execution_count": 6,
   "metadata": {},
   "outputs": [
    {
     "data": {
      "image/png": "[encoded data removed]",
      "text/plain": [
       "<Figure size 432x288 with 1 Axes>"
      ]
     },
     "metadata": {
      "needs_background": "light"
     },
     "output_type": "display_data"
    },
    {
     "data": {
      "image/png": "[encoded data removed]",
      "text/plain": [
       "<Figure size 432x288 with 1 Axes>"
      ]
     },
     "metadata": {
      "needs_background": "light"
     },
     "output_type": "display_data"
    },
    {
     "data": {
      "image/png": "[encoded data removed]",
      "text/plain": [
       "<Figure size 432x288 with 1 Axes>"
      ]
     },
     "metadata": {
      "needs_background": "light"
     },
     "output_type": "display_data"
    },
    {
     "data": {
      "image/png": "[encoded data removed]",
      "text/plain": [
       "<Figure size 432x288 with 1 Axes>"
      ]
     },
     "metadata": {
      "needs_background": "light"
     },
     "output_type": "display_data"
    }
   ],
   "source": [
    "from backend_scripts.graphics import plot_visual_data_box_plot\n",
    "plot_visual_data_box_plot(echo.FAC_QTRS_WITH_NC, \"FAC_QTRS_WITH_NC\", \"x\", \"y\")\n",
    "plot_visual_data_box_plot(echo.FAC_PERCENT_MINORITY, \"FAC_PERCENT_MINORITY\", \"x\", \"y\" )\n",
    "plot_visual_data_box_plot(echo.FAC_TOTAL_PENALTIES, \"FAC_TOTAL_PENALTIES\", \"x\", \"y\" )\n",
    "plot_visual_data_box_plot(echo.FAC_PENALTY_COUNT, \"FAC_PENALTY_COUNT\", \"x\", \"y\" )"
   ]
  },
  {
   "cell_type": "code",
   "execution_count": 7,
   "metadata": {
    "id": "la6u1HGGPLyv"
   },
   "outputs": [],
   "source": [
    "# Export the data to the \"Files\" side panel for download\n",
    "echo.to_csv(\"data.csv\")"
   ]
  },
  {
   "attachments": {},
   "cell_type": "markdown",
   "metadata": {},
   "source": [
    "Mapping the facilities, displaying the name and inspection count of each."
   ]
  },
  {
   "cell_type": "code",
   "execution_count": 1,
   "metadata": {
    "colab": {
     "base_uri": "https://localhost:8080/",
     "height": 1000
    },
    "id": "rAq2yqbjiq37",
    "outputId": "6b375d50-c3e3-4dff-ccef-d9e89eb9cd8c"
   },
   "outputs": [
    {
     "ename": "ModuleNotFoundError",
     "evalue": "No module named 'folium'",
     "output_type": "error",
     "traceback": [
      "\u001b[0;31m---------------------------------------------------------------------------\u001b[0m",
      "\u001b[0;31mModuleNotFoundError\u001b[0m                       Traceback (most recent call last)",
      "Cell \u001b[0;32mIn[1], line 2\u001b[0m\n\u001b[1;32m      1\u001b[0m \u001b[39m# Map the facilities\u001b[39;00m\n\u001b[0;32m----> 2\u001b[0m \u001b[39mfrom\u001b[39;00m \u001b[39mfolium\u001b[39;00m\u001b[39m.\u001b[39;00m\u001b[39mplugins\u001b[39;00m \u001b[39mimport\u001b[39;00m MarkerCluster\n\u001b[1;32m      3\u001b[0m \u001b[39mimport\u001b[39;00m \u001b[39mmath\u001b[39;00m\n\u001b[1;32m      5\u001b[0m \u001b[39mmap\u001b[39m \u001b[39m=\u001b[39m folium\u001b[39m.\u001b[39mMap()\n",
      "\u001b[0;31mModuleNotFoundError\u001b[0m: No module named 'folium'"
     ]
    }
   ],
   "source": [
    "# Map the facilities\n",
    "from folium.plugins import MarkerCluster\n",
    "import math\n",
    "\n",
    "map = folium.Map()\n",
    "marker_cluster = MarkerCluster().add_to(map)\n",
    "\n",
    "for index, row in echo.iterrows():\n",
    "  if math.isnan(row[\"FAC_LAT\"]) or math.isnan(row[\"FAC_LONG\"]): #ignore facilities with no spatial data\n",
    "    pass\n",
    "  else:\n",
    "    marker = folium.Marker(\n",
    "        location = [float(row[\"FAC_LAT\"]), float(row[\"FAC_LONG\"])],\n",
    "        popup = row[\"FAC_NAME\"] + \", Inspection count: \" + str(row[\"FAC_INSPECTION_COUNT\"])\n",
    "    ).add_to(marker_cluster)\n",
    "\n",
    "map\n"
   ]
  }
 ],
 "metadata": {
  "colab": {
   "provenance": []
  },
  "kernelspec": {
   "display_name": "Python 3",
   "language": "python",
   "name": "python3"
  },
  "language_info": {
   "codemirror_mode": {
    "name": "ipython",
    "version": 3
   },
   "file_extension": ".py",
   "mimetype": "text/x-python",
   "name": "python",
   "nbconvert_exporter": "python",
   "pygments_lexer": "ipython3",
   "version": "3.9.6"
  },
  "vscode": {
   "interpreter": {
    "hash": "bd4eeddfed8c6fe0e19545ae345a4200cb8ca79034f930bba9309c73e88b24c5"
   }
  },
  "widgets": {
   "application/vnd.jupyter.widget-state+json": {
    "17376dd664ad4a6ea0f7310a5bb8c004": {
     "model_module": "@jupyter-widgets/controls",
     "model_module_version": "1.5.0",
     "model_name": "TextModel",
     "state": {
      "_dom_classes": [],
      "_model_module": "@jupyter-widgets/controls",
      "_model_module_version": "1.5.0",
      "_model_name": "TextModel",
      "_view_count": null,
      "_view_module": "@jupyter-widgets/controls",
      "_view_module_version": "1.5.0",
      "_view_name": "TextView",
      "continuous_update": true,
      "description": "NAICS codes",
      "description_tooltip": null,
      "disabled": false,
      "layout": "IPY_MODEL_da34b0c4cf7d46b3b2ce756eb07ce976",
      "placeholder": "Enter NAICS codes here, separated with a comma",
      "style": "IPY_MODEL_9099d323723a420d893b80fc8d2a2195",
      "value": "213111"
     }
    },
    "2fcb17488fe446f1bfdcb09f9dbbf817": {
     "model_module": "@jupyter-widgets/controls",
     "model_module_version": "1.5.0",
     "model_name": "DescriptionStyleModel",
     "state": {
      "_model_module": "@jupyter-widgets/controls",
      "_model_module_version": "1.5.0",
      "_model_name": "DescriptionStyleModel",
      "_view_count": null,
      "_view_module": "@jupyter-widgets/base",
      "_view_module_version": "1.2.0",
      "_view_name": "StyleView",
      "description_width": ""
     }
    },
    "638e2956b9fa4a0eb09ece0412504de8": {
     "model_module": "@jupyter-widgets/controls",
     "model_module_version": "1.5.0",
     "model_name": "SelectMultipleModel",
     "state": {
      "_dom_classes": [],
      "_model_module": "@jupyter-widgets/controls",
      "_model_module_version": "1.5.0",
      "_model_name": "SelectMultipleModel",
      "_options_labels": [
       "NPDES_FLAG",
       "AIR_FLAG",
       "RCRA_FLAG"
      ],
      "_view_count": null,
      "_view_module": "@jupyter-widgets/controls",
      "_view_module_version": "1.5.0",
      "_view_name": "SelectMultipleView",
      "description": "Programs",
      "description_tooltip": null,
      "disabled": false,
      "index": [
       1
      ],
      "layout": "IPY_MODEL_789f398b3f854cffb98f8bd5bd27b7fa",
      "rows": 5,
      "style": "IPY_MODEL_ca0be36d1400475aa74cd54b0ac8d413"
     }
    },
    "708548e4b75f4dd6b4bbf7ee59114986": {
     "model_module": "@jupyter-widgets/base",
     "model_module_version": "1.2.0",
     "model_name": "LayoutModel",
     "state": {
      "_model_module": "@jupyter-widgets/base",
      "_model_module_version": "1.2.0",
      "_model_name": "LayoutModel",
      "_view_count": null,
      "_view_module": "@jupyter-widgets/base",
      "_view_module_version": "1.2.0",
      "_view_name": "LayoutView",
      "align_content": null,
      "align_items": null,
      "align_self": null,
      "border": null,
      "bottom": null,
      "display": null,
      "flex": null,
      "flex_flow": null,
      "grid_area": null,
      "grid_auto_columns": null,
      "grid_auto_flow": null,
      "grid_auto_rows": null,
      "grid_column": null,
      "grid_gap": null,
      "grid_row": null,
      "grid_template_areas": null,
      "grid_template_columns": null,
      "grid_template_rows": null,
      "height": null,
      "justify_content": null,
      "justify_items": null,
      "left": null,
      "margin": null,
      "max_height": null,
      "max_width": null,
      "min_height": null,
      "min_width": null,
      "object_fit": null,
      "object_position": null,
      "order": null,
      "overflow": null,
      "overflow_x": null,
      "overflow_y": null,
      "padding": null,
      "right": null,
      "top": null,
      "visibility": null,
      "width": null
     }
    },
    "789f398b3f854cffb98f8bd5bd27b7fa": {
     "model_module": "@jupyter-widgets/base",
     "model_module_version": "1.2.0",
     "model_name": "LayoutModel",
     "state": {
      "_model_module": "@jupyter-widgets/base",
      "_model_module_version": "1.2.0",
      "_model_name": "LayoutModel",
      "_view_count": null,
      "_view_module": "@jupyter-widgets/base",
      "_view_module_version": "1.2.0",
      "_view_name": "LayoutView",
      "align_content": null,
      "align_items": null,
      "align_self": null,
      "border": null,
      "bottom": null,
      "display": null,
      "flex": null,
      "flex_flow": null,
      "grid_area": null,
      "grid_auto_columns": null,
      "grid_auto_flow": null,
      "grid_auto_rows": null,
      "grid_column": null,
      "grid_gap": null,
      "grid_row": null,
      "grid_template_areas": null,
      "grid_template_columns": null,
      "grid_template_rows": null,
      "height": null,
      "justify_content": null,
      "justify_items": null,
      "left": null,
      "margin": null,
      "max_height": null,
      "max_width": null,
      "min_height": null,
      "min_width": null,
      "object_fit": null,
      "object_position": null,
      "order": null,
      "overflow": null,
      "overflow_x": null,
      "overflow_y": null,
      "padding": null,
      "right": null,
      "top": null,
      "visibility": null,
      "width": null
     }
    },
    "9099d323723a420d893b80fc8d2a2195": {
     "model_module": "@jupyter-widgets/controls",
     "model_module_version": "1.5.0",
     "model_name": "DescriptionStyleModel",
     "state": {
      "_model_module": "@jupyter-widgets/controls",
      "_model_module_version": "1.5.0",
      "_model_name": "DescriptionStyleModel",
      "_view_count": null,
      "_view_module": "@jupyter-widgets/base",
      "_view_module_version": "1.2.0",
      "_view_name": "StyleView",
      "description_width": ""
     }
    },
    "ad3de88bf8be4eb58cd35e21fe4671da": {
     "model_module": "@jupyter-widgets/controls",
     "model_module_version": "1.5.0",
     "model_name": "CheckboxModel",
     "state": {
      "_dom_classes": [],
      "_model_module": "@jupyter-widgets/controls",
      "_model_module_version": "1.5.0",
      "_model_name": "CheckboxModel",
      "_view_count": null,
      "_view_module": "@jupyter-widgets/controls",
      "_view_module_version": "1.5.0",
      "_view_name": "CheckboxView",
      "description": "Only active facilities?",
      "description_tooltip": null,
      "disabled": false,
      "indent": true,
      "layout": "IPY_MODEL_708548e4b75f4dd6b4bbf7ee59114986",
      "style": "IPY_MODEL_2fcb17488fe446f1bfdcb09f9dbbf817",
      "value": true
     }
    },
    "ca0be36d1400475aa74cd54b0ac8d413": {
     "model_module": "@jupyter-widgets/controls",
     "model_module_version": "1.5.0",
     "model_name": "DescriptionStyleModel",
     "state": {
      "_model_module": "@jupyter-widgets/controls",
      "_model_module_version": "1.5.0",
      "_model_name": "DescriptionStyleModel",
      "_view_count": null,
      "_view_module": "@jupyter-widgets/base",
      "_view_module_version": "1.2.0",
      "_view_name": "StyleView",
      "description_width": ""
     }
    },
    "da34b0c4cf7d46b3b2ce756eb07ce976": {
     "model_module": "@jupyter-widgets/base",
     "model_module_version": "1.2.0",
     "model_name": "LayoutModel",
     "state": {
      "_model_module": "@jupyter-widgets/base",
      "_model_module_version": "1.2.0",
      "_model_name": "LayoutModel",
      "_view_count": null,
      "_view_module": "@jupyter-widgets/base",
      "_view_module_version": "1.2.0",
      "_view_name": "LayoutView",
      "align_content": null,
      "align_items": null,
      "align_self": null,
      "border": null,
      "bottom": null,
      "display": null,
      "flex": null,
      "flex_flow": null,
      "grid_area": null,
      "grid_auto_columns": null,
      "grid_auto_flow": null,
      "grid_auto_rows": null,
      "grid_column": null,
      "grid_gap": null,
      "grid_row": null,
      "grid_template_areas": null,
      "grid_template_columns": null,
      "grid_template_rows": null,
      "height": null,
      "justify_content": null,
      "justify_items": null,
      "left": null,
      "margin": null,
      "max_height": null,
      "max_width": null,
      "min_height": null,
      "min_width": null,
      "object_fit": null,
      "object_position": null,
      "order": null,
      "overflow": null,
      "overflow_x": null,
      "overflow_y": null,
      "padding": null,
      "right": null,
      "top": null,
      "visibility": null,
      "width": null
     }
    }
   }
  }
 },
 "nbformat": 4,
 "nbformat_minor": 1
}
