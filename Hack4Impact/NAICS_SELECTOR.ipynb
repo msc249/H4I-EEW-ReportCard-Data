{
 "cells": [
  {
   "cell_type": "code",
   "execution_count": 4,
   "metadata": {
    "id": "9wefslkviRhG"
   },
   "outputs": [
    {
     "name": "stderr",
     "output_type": "stream",
     "text": [
      "The syntax of the command is incorrect.\n"
     ]
    }
   ],
   "source": [
    "# Load helper code\n",
    "!git clone https://github.com/edgi-govdata-archiving/ECHO_modules.git &>/dev/null;\n",
    "import pandas\n",
    "import ipywidgets as widgets\n",
    "import math\n",
    "import numpy as np\n",
    "import matplotlib.pyplot as plt\n"
   ]
  },
  {
   "cell_type": "code",
   "execution_count": 5,
   "metadata": {
    "colab": {
     "base_uri": "https://localhost:8080/",
     "height": 171,
     "referenced_widgets": [
      "638e2956b9fa4a0eb09ece0412504de8",
      "789f398b3f854cffb98f8bd5bd27b7fa",
      "ca0be36d1400475aa74cd54b0ac8d413",
      "ad3de88bf8be4eb58cd35e21fe4671da",
      "708548e4b75f4dd6b4bbf7ee59114986",
      "2fcb17488fe446f1bfdcb09f9dbbf817",
      "17376dd664ad4a6ea0f7310a5bb8c004",
      "da34b0c4cf7d46b3b2ce756eb07ce976",
      "9099d323723a420d893b80fc8d2a2195"
     ]
    },
    "id": "ELmOFMA2-f2L",
    "outputId": "5a374d7e-1e06-463c-be4e-7c93bf680667",
    "scrolled": true
   },
   "outputs": [
    {
     "data": {
      "application/vnd.jupyter.widget-view+json": {
       "model_id": "3d79c646748a4cd8badee72d83a76a60",
       "version_major": 2,
       "version_minor": 0
      },
      "text/plain": [
       "SelectMultiple(description='Programs', options=('NPDES_FLAG', 'AIR_FLAG', 'RCRA_FLAG'), value=())"
      ]
     },
     "metadata": {},
     "output_type": "display_data"
    },
    {
     "data": {
      "application/vnd.jupyter.widget-view+json": {
       "model_id": "540b48a5ad1c4237a7676dcb64c56d04",
       "version_major": 2,
       "version_minor": 0
      },
      "text/plain": [
       "Checkbox(value=False, description='Only active facilities?')"
      ]
     },
     "metadata": {},
     "output_type": "display_data"
    },
    {
     "data": {
      "application/vnd.jupyter.widget-view+json": {
       "model_id": "41312973373d4935b1cbdd84c2da535b",
       "version_major": 2,
       "version_minor": 0
      },
      "text/plain": [
       "Text(value='', description='NAICS codes', placeholder='Enter NAICS codes here, separated with a comma')"
      ]
     },
     "metadata": {},
     "output_type": "display_data"
    }
   ],
   "source": [
    "# Make selections about programs, active facilities, and NAICS codes\n",
    "from backend_scripts.programs_facilities_codes import make_selections\n",
    "selections = make_selections()\n"
   ]
  },
  {
   "cell_type": "code",
   "execution_count": 9,
   "metadata": {
    "colab": {
     "base_uri": "https://localhost:8080/"
    },
    "id": "K70E7GqQV8Br",
    "outputId": "8011ca43-d801-40b7-9172-f949d87f7eac"
   },
   "outputs": [
    {
     "name": "stdout",
     "output_type": "stream",
     "text": [
      "((\"NPDES_FLAG\" = 'Y' and \"FAC_ACTIVE_FLAG\" = 'Y') and (\"FAC_NAICS_CODES\" like ' %1111%%' or \"FAC_NAICS_CODES\" like '1111%%' or \"CWA_NAICS\" like ' %1111%%' or \"CWA_NAICS\" like '1111%%'))\n"
     ]
    }
   ],
   "source": [
    "# Create the SQL query string\n",
    "# Filter by programsx = 5x = 5\n",
    "from backend_scripts.query_and_filter import query\n",
    "squery = query(selections)\n",
    "print(squery)"
   ]
  },
  {
   "cell_type": "code",
   "execution_count": 10,
   "metadata": {
    "colab": {
     "base_uri": "https://localhost:8080/",
     "height": 818
    },
    "id": "lfx67zSWIj7N",
    "outputId": "682aa8de-ffed-42f6-a681-5b19a835a200"
   },
   "outputs": [
    {
     "data": {
      "text/html": [
       "<div>\n",
       "<style scoped>\n",
       "    .dataframe tbody tr th:only-of-type {\n",
       "        vertical-align: middle;\n",
       "    }\n",
       "\n",
       "    .dataframe tbody tr th {\n",
       "        vertical-align: top;\n",
       "    }\n",
       "\n",
       "    .dataframe thead th {\n",
       "        text-align: right;\n",
       "    }\n",
       "</style>\n",
       "<table border=\"1\" class=\"dataframe\">\n",
       "  <thead>\n",
       "    <tr style=\"text-align: right;\">\n",
       "      <th></th>\n",
       "      <th>FAC_NAME</th>\n",
       "      <th>CWA_NAICS</th>\n",
       "      <th>CAA_NAICS</th>\n",
       "      <th>RCRA_NAICS</th>\n",
       "      <th>FAC_NAICS_CODES</th>\n",
       "      <th>FAC_LAT</th>\n",
       "      <th>FAC_LONG</th>\n",
       "      <th>FAC_PERCENT_MINORITY</th>\n",
       "      <th>FAC_TOTAL_PENALTIES</th>\n",
       "      <th>FAC_QTRS_WITH_NC</th>\n",
       "      <th>FAC_PENALTY_COUNT</th>\n",
       "      <th>EJSCREEN_FLAG_US</th>\n",
       "    </tr>\n",
       "  </thead>\n",
       "  <tbody>\n",
       "    <tr>\n",
       "      <th>0</th>\n",
       "      <td>ENCOAT INTERNATIONAL INC</td>\n",
       "      <td>NaN</td>\n",
       "      <td>NaN</td>\n",
       "      <td>11111</td>\n",
       "      <td>11111</td>\n",
       "      <td>30.561040</td>\n",
       "      <td>-91.054570</td>\n",
       "      <td>14.754</td>\n",
       "      <td>0</td>\n",
       "      <td>12</td>\n",
       "      <td>NaN</td>\n",
       "      <td>N</td>\n",
       "    </tr>\n",
       "    <tr>\n",
       "      <th>1</th>\n",
       "      <td>COURTER'S FINISHER FARM</td>\n",
       "      <td>111940 112120 111150 111110 112210</td>\n",
       "      <td>NaN</td>\n",
       "      <td>NaN</td>\n",
       "      <td>111150 111940 112210 112120 111110</td>\n",
       "      <td>41.031944</td>\n",
       "      <td>-77.563889</td>\n",
       "      <td>1.854</td>\n",
       "      <td>0</td>\n",
       "      <td>0</td>\n",
       "      <td>NaN</td>\n",
       "      <td>N</td>\n",
       "    </tr>\n",
       "    <tr>\n",
       "      <th>2</th>\n",
       "      <td>BUTLER SCHIAVO 95 NEW IND BLDG</td>\n",
       "      <td>111130</td>\n",
       "      <td>NaN</td>\n",
       "      <td>NaN</td>\n",
       "      <td>111130</td>\n",
       "      <td>40.936200</td>\n",
       "      <td>-75.949400</td>\n",
       "      <td>37.174</td>\n",
       "      <td>0</td>\n",
       "      <td>0</td>\n",
       "      <td>NaN</td>\n",
       "      <td>N</td>\n",
       "    </tr>\n",
       "    <tr>\n",
       "      <th>3</th>\n",
       "      <td>HICKORY RUN STATE PARK</td>\n",
       "      <td>721211 111120</td>\n",
       "      <td>NaN</td>\n",
       "      <td>NaN</td>\n",
       "      <td>111120 721211</td>\n",
       "      <td>41.021667</td>\n",
       "      <td>-75.711389</td>\n",
       "      <td>12.238</td>\n",
       "      <td>0</td>\n",
       "      <td>0</td>\n",
       "      <td>NaN</td>\n",
       "      <td>N</td>\n",
       "    </tr>\n",
       "    <tr>\n",
       "      <th>4</th>\n",
       "      <td>ST LUKE UNIV HEALTH NET CARBON CAMPUS MED OFF ...</td>\n",
       "      <td>111120</td>\n",
       "      <td>NaN</td>\n",
       "      <td>NaN</td>\n",
       "      <td>111120</td>\n",
       "      <td>40.843917</td>\n",
       "      <td>-75.671361</td>\n",
       "      <td>4.231</td>\n",
       "      <td>0</td>\n",
       "      <td>0</td>\n",
       "      <td>NaN</td>\n",
       "      <td>N</td>\n",
       "    </tr>\n",
       "    <tr>\n",
       "      <th>...</th>\n",
       "      <td>...</td>\n",
       "      <td>...</td>\n",
       "      <td>...</td>\n",
       "      <td>...</td>\n",
       "      <td>...</td>\n",
       "      <td>...</td>\n",
       "      <td>...</td>\n",
       "      <td>...</td>\n",
       "      <td>...</td>\n",
       "      <td>...</td>\n",
       "      <td>...</td>\n",
       "      <td>...</td>\n",
       "    </tr>\n",
       "    <tr>\n",
       "      <th>107</th>\n",
       "      <td>CENTRAL LAKE COUNTY JAWA</td>\n",
       "      <td>NaN</td>\n",
       "      <td>NaN</td>\n",
       "      <td>11111</td>\n",
       "      <td>11111</td>\n",
       "      <td>42.279570</td>\n",
       "      <td>-87.861220</td>\n",
       "      <td>31.246</td>\n",
       "      <td>0</td>\n",
       "      <td>0</td>\n",
       "      <td>NaN</td>\n",
       "      <td>N</td>\n",
       "    </tr>\n",
       "    <tr>\n",
       "      <th>108</th>\n",
       "      <td>LIQUID CONTAINER/1275 NUCLEAR</td>\n",
       "      <td>NaN</td>\n",
       "      <td>NaN</td>\n",
       "      <td>11111</td>\n",
       "      <td>11111 326160</td>\n",
       "      <td>41.903410</td>\n",
       "      <td>-88.232580</td>\n",
       "      <td>41.372</td>\n",
       "      <td>0</td>\n",
       "      <td>0</td>\n",
       "      <td>NaN</td>\n",
       "      <td>N</td>\n",
       "    </tr>\n",
       "    <tr>\n",
       "      <th>109</th>\n",
       "      <td>EUGENE-SPRINGFIELD WPCF</td>\n",
       "      <td>NaN</td>\n",
       "      <td>999999.0</td>\n",
       "      <td>11111</td>\n",
       "      <td>11111 999999 221118 22132</td>\n",
       "      <td>44.095584</td>\n",
       "      <td>-123.111946</td>\n",
       "      <td>16.142</td>\n",
       "      <td>0</td>\n",
       "      <td>11</td>\n",
       "      <td>NaN</td>\n",
       "      <td>N</td>\n",
       "    </tr>\n",
       "    <tr>\n",
       "      <th>110</th>\n",
       "      <td>AIR PRODS  &amp; CHEMICALS INC   SPECIALTY GAS DIV</td>\n",
       "      <td>111130</td>\n",
       "      <td>325120.0</td>\n",
       "      <td>325120</td>\n",
       "      <td>325120 32512 49311 111130</td>\n",
       "      <td>40.836389</td>\n",
       "      <td>-76.030833</td>\n",
       "      <td>2.198</td>\n",
       "      <td>35200</td>\n",
       "      <td>2</td>\n",
       "      <td>2.0</td>\n",
       "      <td>N</td>\n",
       "    </tr>\n",
       "    <tr>\n",
       "      <th>111</th>\n",
       "      <td>WYCKOFF WTP</td>\n",
       "      <td>NaN</td>\n",
       "      <td>NaN</td>\n",
       "      <td>11111</td>\n",
       "      <td>11111 22131</td>\n",
       "      <td>34.045562</td>\n",
       "      <td>-84.688967</td>\n",
       "      <td>31.909</td>\n",
       "      <td>0</td>\n",
       "      <td>0</td>\n",
       "      <td>NaN</td>\n",
       "      <td>N</td>\n",
       "    </tr>\n",
       "  </tbody>\n",
       "</table>\n",
       "<p>112 rows × 12 columns</p>\n",
       "</div>"
      ],
      "text/plain": [
       "                                              FAC_NAME  \\\n",
       "0                             ENCOAT INTERNATIONAL INC   \n",
       "1                              COURTER'S FINISHER FARM   \n",
       "2                       BUTLER SCHIAVO 95 NEW IND BLDG   \n",
       "3                               HICKORY RUN STATE PARK   \n",
       "4    ST LUKE UNIV HEALTH NET CARBON CAMPUS MED OFF ...   \n",
       "..                                                 ...   \n",
       "107                           CENTRAL LAKE COUNTY JAWA   \n",
       "108                      LIQUID CONTAINER/1275 NUCLEAR   \n",
       "109                            EUGENE-SPRINGFIELD WPCF   \n",
       "110     AIR PRODS  & CHEMICALS INC   SPECIALTY GAS DIV   \n",
       "111                                        WYCKOFF WTP   \n",
       "\n",
       "                              CWA_NAICS  CAA_NAICS RCRA_NAICS  \\\n",
       "0                                   NaN        NaN      11111   \n",
       "1    111940 112120 111150 111110 112210        NaN        NaN   \n",
       "2                                111130        NaN        NaN   \n",
       "3                         721211 111120        NaN        NaN   \n",
       "4                                111120        NaN        NaN   \n",
       "..                                  ...        ...        ...   \n",
       "107                                 NaN        NaN      11111   \n",
       "108                                 NaN        NaN      11111   \n",
       "109                                 NaN   999999.0      11111   \n",
       "110                              111130   325120.0     325120   \n",
       "111                                 NaN        NaN      11111   \n",
       "\n",
       "                        FAC_NAICS_CODES    FAC_LAT    FAC_LONG  \\\n",
       "0                                 11111  30.561040  -91.054570   \n",
       "1    111150 111940 112210 112120 111110  41.031944  -77.563889   \n",
       "2                                111130  40.936200  -75.949400   \n",
       "3                         111120 721211  41.021667  -75.711389   \n",
       "4                                111120  40.843917  -75.671361   \n",
       "..                                  ...        ...         ...   \n",
       "107                               11111  42.279570  -87.861220   \n",
       "108                        11111 326160  41.903410  -88.232580   \n",
       "109           11111 999999 221118 22132  44.095584 -123.111946   \n",
       "110           325120 32512 49311 111130  40.836389  -76.030833   \n",
       "111                         11111 22131  34.045562  -84.688967   \n",
       "\n",
       "     FAC_PERCENT_MINORITY  FAC_TOTAL_PENALTIES  FAC_QTRS_WITH_NC  \\\n",
       "0                  14.754                    0                12   \n",
       "1                   1.854                    0                 0   \n",
       "2                  37.174                    0                 0   \n",
       "3                  12.238                    0                 0   \n",
       "4                   4.231                    0                 0   \n",
       "..                    ...                  ...               ...   \n",
       "107                31.246                    0                 0   \n",
       "108                41.372                    0                 0   \n",
       "109                16.142                    0                11   \n",
       "110                 2.198                35200                 2   \n",
       "111                31.909                    0                 0   \n",
       "\n",
       "     FAC_PENALTY_COUNT EJSCREEN_FLAG_US  \n",
       "0                  NaN                N  \n",
       "1                  NaN                N  \n",
       "2                  NaN                N  \n",
       "3                  NaN                N  \n",
       "4                  NaN                N  \n",
       "..                 ...              ...  \n",
       "107                NaN                N  \n",
       "108                NaN                N  \n",
       "109                NaN                N  \n",
       "110                2.0                N  \n",
       "111                NaN                N  \n",
       "\n",
       "[112 rows x 12 columns]"
      ]
     },
     "execution_count": 10,
     "metadata": {},
     "output_type": "execute_result"
    }
   ],
   "source": [
    "# Access the ECHO_EXPORTER table\n",
    "# Output will be the matching tracked by EPA\n",
    "\n",
    "from ECHO_modules.get_data import get_echo_data\n",
    "\n",
    "\n",
    "sql = 'select \"FAC_NAME\", \"CWA_NAICS\", \"CAA_NAICS\", \"RCRA_NAICS\", \"FAC_NAICS_CODES\", \"FAC_LAT\", \"FAC_LONG\", \"FAC_PERCENT_MINORITY\", \"FAC_TOTAL_PENALTIES\", \"FAC_QTRS_WITH_NC\", \"FAC_PENALTY_COUNT\", \"EJSCREEN_FLAG_US\" from \"ECHO_EXPORTER\" where ' + squery\n",
    "try:\n",
    "  echo = get_echo_data( sql )\n",
    "except pandas.errors.EmptyDataError:\n",
    "  print(\"\\nThere are no records.\\n\")\n",
    "  \n",
    "echo"
   ]
  },
  {
   "cell_type": "code",
   "execution_count": 13,
   "metadata": {},
   "outputs": [
    {
     "data": {
      "image/png": "[encoded data removed]",
      "text/plain": [
       "<Figure size 432x288 with 1 Axes>"
      ]
     },
     "metadata": {
      "needs_background": "light"
     },
     "output_type": "display_data"
    },
    {
     "data": {
      "image/png": "[encoded data removed]",
      "text/plain": [
       "<Figure size 432x288 with 1 Axes>"
      ]
     },
     "metadata": {
      "needs_background": "light"
     },
     "output_type": "display_data"
    },
    {
     "data": {
      "image/png": "[encoded data removed]",
      "text/plain": [
       "<Figure size 432x288 with 1 Axes>"
      ]
     },
     "metadata": {
      "needs_background": "light"
     },
     "output_type": "display_data"
    },
    {
     "data": {
      "image/png": "[encoded data removed]",
      "text/plain": [
       "<Figure size 432x288 with 1 Axes>"
      ]
     },
     "metadata": {
      "needs_background": "light"
     },
     "output_type": "display_data"
    }
   ],
   "source": [
    "from backend_scripts.mean_medians import plot_visual_data_box_plot\n",
    "plot_visual_data_box_plot(echo.FAC_QTRS_WITH_NC, \"FAC_QTRS_WITH_NC\", \"x\", \"y\")\n",
    "plot_visual_data_box_plot(echo.FAC_PERCENT_MINORITY, \"FAC_PERCENT_MINORITY\", \"x\", \"y\" )\n",
    "plot_visual_data_box_plot(echo.FAC_TOTAL_PENALTIES, \"FAC_TOTAL_PENALTIES\", \"x\", \"y\" )\n",
    "plot_visual_data_box_plot(echo.FAC_PENALTY_COUNT, \"FAC_PENALTY_COUNT\", \"x\", \"y\" )"
   ]
  },
  {
   "cell_type": "code",
   "execution_count": null,
   "metadata": {
    "id": "la6u1HGGPLyv"
   },
   "outputs": [],
   "source": [
    "# Export the data to the \"Files\" side panel for download\n",
    "echo.to_csv(\"data.csv\")"
   ]
  },
  {
   "cell_type": "code",
   "execution_count": 8,
   "metadata": {
    "colab": {
     "base_uri": "https://localhost:8080/",
     "height": 1000
    },
    "id": "rAq2yqbjiq37",
    "outputId": "6b375d50-c3e3-4dff-ccef-d9e89eb9cd8c"
   },
   "outputs": [
    {
     "ename": "ModuleNotFoundError",
     "evalue": "No module named 'folium'",
     "output_type": "error",
     "traceback": [
      "\u001b[1;31m---------------------------------------------------------------------------\u001b[0m",
      "\u001b[1;31mModuleNotFoundError\u001b[0m                       Traceback (most recent call last)",
      "\u001b[1;32m<ipython-input-8-df6f430f6749>\u001b[0m in \u001b[0;36m<module>\u001b[1;34m\u001b[0m\n\u001b[0;32m      1\u001b[0m \u001b[1;31m# Map the facilities\u001b[0m\u001b[1;33m\u001b[0m\u001b[1;33m\u001b[0m\u001b[1;33m\u001b[0m\u001b[0m\n\u001b[1;32m----> 2\u001b[1;33m \u001b[1;32mimport\u001b[0m \u001b[0mfolium\u001b[0m\u001b[1;33m\u001b[0m\u001b[1;33m\u001b[0m\u001b[0m\n\u001b[0m\u001b[0;32m      3\u001b[0m \u001b[1;32mfrom\u001b[0m \u001b[0mfolium\u001b[0m\u001b[1;33m.\u001b[0m\u001b[0mplugins\u001b[0m \u001b[1;32mimport\u001b[0m \u001b[0mMarkerCluster\u001b[0m\u001b[1;33m\u001b[0m\u001b[1;33m\u001b[0m\u001b[0m\n\u001b[0;32m      4\u001b[0m \u001b[1;32mimport\u001b[0m \u001b[0mmath\u001b[0m\u001b[1;33m\u001b[0m\u001b[1;33m\u001b[0m\u001b[0m\n\u001b[0;32m      5\u001b[0m \u001b[1;33m\u001b[0m\u001b[0m\n",
      "\u001b[1;31mModuleNotFoundError\u001b[0m: No module named 'folium'"
     ]
    }
   ],
   "source": [
    "# Map the facilities\n",
    "import folium\n",
    "from folium.plugins import MarkerCluster\n",
    "import math\n",
    "\n",
    "map = folium.Map()\n",
    "marker_cluster = MarkerCluster().add_to(map)\n",
    "\n",
    "for index, row in echo.iterrows():\n",
    "  if math.isnan(row[\"FAC_LAT\"]) or math.isnan(row[\"FAC_LONG\"]): #ignore facilities with no spatial data\n",
    "    pass\n",
    "  else:\n",
    "    marker = folium.Marker(\n",
    "        location = [float(row[\"FAC_LAT\"]), float(row[\"FAC_LONG\"])],\n",
    "        popup = row[\"FAC_NAME\"]\n",
    "    ).add_to(marker_cluster)\n",
    "\n",
    "map"
   ]
  },
  {
   "cell_type": "code",
   "execution_count": null,
   "metadata": {
    "id": "cCGGgGpMnqGn"
   },
   "outputs": [],
   "source": []
  }
 ],
 "metadata": {
  "colab": {
   "provenance": []
  },
  "kernelspec": {
   "display_name": "Python 3",
   "language": "python",
   "name": "python3"
  },
  "language_info": {
   "codemirror_mode": {
    "name": "ipython",
    "version": 3
   },
   "file_extension": ".py",
   "mimetype": "text/x-python",
   "name": "python",
   "nbconvert_exporter": "python",
   "pygments_lexer": "ipython3",
   "version": "3.8.8"
  },
  "vscode": {
   "interpreter": {
    "hash": "bd4eeddfed8c6fe0e19545ae345a4200cb8ca79034f930bba9309c73e88b24c5"
   }
  },
  "widgets": {
   "application/vnd.jupyter.widget-state+json": {
    "17376dd664ad4a6ea0f7310a5bb8c004": {
     "model_module": "@jupyter-widgets/controls",
     "model_module_version": "1.5.0",
     "model_name": "TextModel",
     "state": {
      "_dom_classes": [],
      "_model_module": "@jupyter-widgets/controls",
      "_model_module_version": "1.5.0",
      "_model_name": "TextModel",
      "_view_count": null,
      "_view_module": "@jupyter-widgets/controls",
      "_view_module_version": "1.5.0",
      "_view_name": "TextView",
      "continuous_update": true,
      "description": "NAICS codes",
      "description_tooltip": null,
      "disabled": false,
      "layout": "IPY_MODEL_da34b0c4cf7d46b3b2ce756eb07ce976",
      "placeholder": "Enter NAICS codes here, separated with a comma",
      "style": "IPY_MODEL_9099d323723a420d893b80fc8d2a2195",
      "value": "213111"
     }
    },
    "2fcb17488fe446f1bfdcb09f9dbbf817": {
     "model_module": "@jupyter-widgets/controls",
     "model_module_version": "1.5.0",
     "model_name": "DescriptionStyleModel",
     "state": {
      "_model_module": "@jupyter-widgets/controls",
      "_model_module_version": "1.5.0",
      "_model_name": "DescriptionStyleModel",
      "_view_count": null,
      "_view_module": "@jupyter-widgets/base",
      "_view_module_version": "1.2.0",
      "_view_name": "StyleView",
      "description_width": ""
     }
    },
    "638e2956b9fa4a0eb09ece0412504de8": {
     "model_module": "@jupyter-widgets/controls",
     "model_module_version": "1.5.0",
     "model_name": "SelectMultipleModel",
     "state": {
      "_dom_classes": [],
      "_model_module": "@jupyter-widgets/controls",
      "_model_module_version": "1.5.0",
      "_model_name": "SelectMultipleModel",
      "_options_labels": [
       "NPDES_FLAG",
       "AIR_FLAG",
       "RCRA_FLAG"
      ],
      "_view_count": null,
      "_view_module": "@jupyter-widgets/controls",
      "_view_module_version": "1.5.0",
      "_view_name": "SelectMultipleView",
      "description": "Programs",
      "description_tooltip": null,
      "disabled": false,
      "index": [
       1
      ],
      "layout": "IPY_MODEL_789f398b3f854cffb98f8bd5bd27b7fa",
      "rows": 5,
      "style": "IPY_MODEL_ca0be36d1400475aa74cd54b0ac8d413"
     }
    },
    "708548e4b75f4dd6b4bbf7ee59114986": {
     "model_module": "@jupyter-widgets/base",
     "model_module_version": "1.2.0",
     "model_name": "LayoutModel",
     "state": {
      "_model_module": "@jupyter-widgets/base",
      "_model_module_version": "1.2.0",
      "_model_name": "LayoutModel",
      "_view_count": null,
      "_view_module": "@jupyter-widgets/base",
      "_view_module_version": "1.2.0",
      "_view_name": "LayoutView",
      "align_content": null,
      "align_items": null,
      "align_self": null,
      "border": null,
      "bottom": null,
      "display": null,
      "flex": null,
      "flex_flow": null,
      "grid_area": null,
      "grid_auto_columns": null,
      "grid_auto_flow": null,
      "grid_auto_rows": null,
      "grid_column": null,
      "grid_gap": null,
      "grid_row": null,
      "grid_template_areas": null,
      "grid_template_columns": null,
      "grid_template_rows": null,
      "height": null,
      "justify_content": null,
      "justify_items": null,
      "left": null,
      "margin": null,
      "max_height": null,
      "max_width": null,
      "min_height": null,
      "min_width": null,
      "object_fit": null,
      "object_position": null,
      "order": null,
      "overflow": null,
      "overflow_x": null,
      "overflow_y": null,
      "padding": null,
      "right": null,
      "top": null,
      "visibility": null,
      "width": null
     }
    },
    "789f398b3f854cffb98f8bd5bd27b7fa": {
     "model_module": "@jupyter-widgets/base",
     "model_module_version": "1.2.0",
     "model_name": "LayoutModel",
     "state": {
      "_model_module": "@jupyter-widgets/base",
      "_model_module_version": "1.2.0",
      "_model_name": "LayoutModel",
      "_view_count": null,
      "_view_module": "@jupyter-widgets/base",
      "_view_module_version": "1.2.0",
      "_view_name": "LayoutView",
      "align_content": null,
      "align_items": null,
      "align_self": null,
      "border": null,
      "bottom": null,
      "display": null,
      "flex": null,
      "flex_flow": null,
      "grid_area": null,
      "grid_auto_columns": null,
      "grid_auto_flow": null,
      "grid_auto_rows": null,
      "grid_column": null,
      "grid_gap": null,
      "grid_row": null,
      "grid_template_areas": null,
      "grid_template_columns": null,
      "grid_template_rows": null,
      "height": null,
      "justify_content": null,
      "justify_items": null,
      "left": null,
      "margin": null,
      "max_height": null,
      "max_width": null,
      "min_height": null,
      "min_width": null,
      "object_fit": null,
      "object_position": null,
      "order": null,
      "overflow": null,
      "overflow_x": null,
      "overflow_y": null,
      "padding": null,
      "right": null,
      "top": null,
      "visibility": null,
      "width": null
     }
    },
    "9099d323723a420d893b80fc8d2a2195": {
     "model_module": "@jupyter-widgets/controls",
     "model_module_version": "1.5.0",
     "model_name": "DescriptionStyleModel",
     "state": {
      "_model_module": "@jupyter-widgets/controls",
      "_model_module_version": "1.5.0",
      "_model_name": "DescriptionStyleModel",
      "_view_count": null,
      "_view_module": "@jupyter-widgets/base",
      "_view_module_version": "1.2.0",
      "_view_name": "StyleView",
      "description_width": ""
     }
    },
    "ad3de88bf8be4eb58cd35e21fe4671da": {
     "model_module": "@jupyter-widgets/controls",
     "model_module_version": "1.5.0",
     "model_name": "CheckboxModel",
     "state": {
      "_dom_classes": [],
      "_model_module": "@jupyter-widgets/controls",
      "_model_module_version": "1.5.0",
      "_model_name": "CheckboxModel",
      "_view_count": null,
      "_view_module": "@jupyter-widgets/controls",
      "_view_module_version": "1.5.0",
      "_view_name": "CheckboxView",
      "description": "Only active facilities?",
      "description_tooltip": null,
      "disabled": false,
      "indent": true,
      "layout": "IPY_MODEL_708548e4b75f4dd6b4bbf7ee59114986",
      "style": "IPY_MODEL_2fcb17488fe446f1bfdcb09f9dbbf817",
      "value": true
     }
    },
    "ca0be36d1400475aa74cd54b0ac8d413": {
     "model_module": "@jupyter-widgets/controls",
     "model_module_version": "1.5.0",
     "model_name": "DescriptionStyleModel",
     "state": {
      "_model_module": "@jupyter-widgets/controls",
      "_model_module_version": "1.5.0",
      "_model_name": "DescriptionStyleModel",
      "_view_count": null,
      "_view_module": "@jupyter-widgets/base",
      "_view_module_version": "1.2.0",
      "_view_name": "StyleView",
      "description_width": ""
     }
    },
    "da34b0c4cf7d46b3b2ce756eb07ce976": {
     "model_module": "@jupyter-widgets/base",
     "model_module_version": "1.2.0",
     "model_name": "LayoutModel",
     "state": {
      "_model_module": "@jupyter-widgets/base",
      "_model_module_version": "1.2.0",
      "_model_name": "LayoutModel",
      "_view_count": null,
      "_view_module": "@jupyter-widgets/base",
      "_view_module_version": "1.2.0",
      "_view_name": "LayoutView",
      "align_content": null,
      "align_items": null,
      "align_self": null,
      "border": null,
      "bottom": null,
      "display": null,
      "flex": null,
      "flex_flow": null,
      "grid_area": null,
      "grid_auto_columns": null,
      "grid_auto_flow": null,
      "grid_auto_rows": null,
      "grid_column": null,
      "grid_gap": null,
      "grid_row": null,
      "grid_template_areas": null,
      "grid_template_columns": null,
      "grid_template_rows": null,
      "height": null,
      "justify_content": null,
      "justify_items": null,
      "left": null,
      "margin": null,
      "max_height": null,
      "max_width": null,
      "min_height": null,
      "min_width": null,
      "object_fit": null,
      "object_position": null,
      "order": null,
      "overflow": null,
      "overflow_x": null,
      "overflow_y": null,
      "padding": null,
      "right": null,
      "top": null,
      "visibility": null,
      "width": null
     }
    }
   }
  }
 },
 "nbformat": 4,
 "nbformat_minor": 1
}
